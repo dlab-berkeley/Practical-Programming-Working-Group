{
 "cells": [
  {
   "cell_type": "code",
   "execution_count": 1,
   "id": "84971121",
   "metadata": {},
   "outputs": [],
   "source": [
    "import time\n",
    "import numpy as np\n",
    "import pandas as pd"
   ]
  },
  {
   "cell_type": "markdown",
   "id": "44ccfccd",
   "metadata": {},
   "source": [
    "In this notebook we will start exploring some key functions in python that can enable  mode efficient (faster and cleaner) code. \n",
    "\n",
    "We will investigate the following Functions\n",
    "1. Eliminating Loops: list, dictionary comprehension\n",
    "2. Combining Objects\n",
    "3. Counting and iterating over Objects\n"
   ]
  },
  {
   "cell_type": "markdown",
   "id": "b4b2318b",
   "metadata": {},
   "source": [
    "### 1. Eliminating Loops\n",
    "Using extraneous loops can be inefficient and costly. Let’s explore some tools that can help us eliminate the need to use loops in our code. Although all of these looping patterns are supported by Python, we should be careful when using them. Because most loops are evaluated in a piece-by-piece manner, they are often inefficient solutions.\n",
    "\n",
    "Python comes with a few looping patterns that can be used when we want to iterate over an object’s contents:\n",
    "\n",
    "- For loops iterate over elements of a sequence piece-by-piece.\n",
    "- While loops execute a loop repeatedly as long as some Boolean condition is met.\n",
    "- Nested loops use multiple loops inside one another.\n"
   ]
  },
  {
   "cell_type": "markdown",
   "id": "903dd4e2",
   "metadata": {},
   "source": [
    "####  Row sums\n",
    "Given a matrix compute row sums"
   ]
  },
  {
   "cell_type": "code",
   "execution_count": 5,
   "id": "02d84432",
   "metadata": {},
   "outputs": [
    {
     "data": {
      "text/plain": [
       "array([[74, 16, 37, 16],\n",
       "       [54, 28, 57, 81],\n",
       "       [82, 43, 74,  3]])"
      ]
     },
     "execution_count": 5,
     "metadata": {},
     "output_type": "execute_result"
    }
   ],
   "source": [
    "random_data = np.random.randint(100, size=(3,4))\n",
    "random_data"
   ]
  },
  {
   "cell_type": "markdown",
   "id": "94367df7",
   "metadata": {},
   "source": [
    "#### Using For Loops"
   ]
  },
  {
   "cell_type": "code",
   "execution_count": 7,
   "id": "ad382c65",
   "metadata": {},
   "outputs": [
    {
     "name": "stdout",
     "output_type": "stream",
     "text": [
      "3.93 µs ± 479 ns per loop (mean ± std. dev. of 7 runs, 100000 loops each)\n"
     ]
    }
   ],
   "source": [
    "%%timeit  totals = []\n",
    "## row sums\n",
    "# start = time.time()\n",
    "for row in random_data:\n",
    "    totals.append(sum(row))\n",
    "end = time.time()\n",
    "# total_time = end-start\n",
    "# print(f'Run time: {total_time} s')"
   ]
  },
  {
   "cell_type": "markdown",
   "id": "278c64be",
   "metadata": {},
   "source": [
    "#### Using List comprehensions"
   ]
  },
  {
   "cell_type": "code",
   "execution_count": 8,
   "id": "76d150cc",
   "metadata": {},
   "outputs": [
    {
     "name": "stdout",
     "output_type": "stream",
     "text": [
      "3.09 µs ± 320 ns per loop (mean ± std. dev. of 7 runs, 100000 loops each)\n"
     ]
    }
   ],
   "source": [
    "%timeit totals_comp = [sum(row) for row in random_data]"
   ]
  },
  {
   "cell_type": "markdown",
   "id": "2015aab5",
   "metadata": {},
   "source": [
    "#### Dictionary Comprehensions"
   ]
  },
  {
   "cell_type": "code",
   "execution_count": 39,
   "id": "5d417054",
   "metadata": {},
   "outputs": [
    {
     "data": {
      "text/plain": [
       "{'Ahmed': 25, 'Youssef': 27, 'Mohammed': 40}"
      ]
     },
     "execution_count": 39,
     "metadata": {},
     "output_type": "execute_result"
    }
   ],
   "source": [
    "# Lists to represent keys and values\n",
    "keys = ['Ahmed', 'Youssef', 'Mohammed']\n",
    "values = [25, 27, 40]\n",
    " \n",
    "# but this line shows dict comprehension here \n",
    "myDict = { k:v for (k,v) in zip(keys, values)} \n",
    "myDict"
   ]
  },
  {
   "cell_type": "markdown",
   "id": "03352e5b",
   "metadata": {},
   "source": [
    "### 2. Combinations\n",
    "\n",
    "Combining, counting, and iterating over objects can be done very efficiently in python. Imagine we have two lists: one of the names and the other is the age for each of them. We want to combine these lists so that each name is stored next to its age. We can use the following methods to obtain the same result:\n",
    "\n",
    "1. enumerate\n",
    "2. zip (more elegant)"
   ]
  },
  {
   "cell_type": "markdown",
   "id": "b39db7f4",
   "metadata": {},
   "source": [
    "#### Using Enumerate:\n",
    "We can iterate over the names list using enumerate and grab each name's corresponding age using the index variable."
   ]
  },
  {
   "cell_type": "code",
   "execution_count": 15,
   "id": "b9995376",
   "metadata": {},
   "outputs": [
    {
     "name": "stdout",
     "output_type": "stream",
     "text": [
      "875 ns ± 116 ns per loop (mean ± std. dev. of 10 runs, 100 loops each)\n"
     ]
    }
   ],
   "source": [
    "%%timeit -r10 -n100\n",
    "# combining objects \n",
    "names = ['Ahmed', 'Youssef', 'Mohammed']\n",
    "age = [25, 27, 40]\n",
    "combined = []\n",
    "\n",
    "for i,name in enumerate(names):\n",
    "    combined.append((name, age[i]))\n",
    "# print(combined)"
   ]
  },
  {
   "cell_type": "markdown",
   "id": "810dfde9",
   "metadata": {},
   "source": [
    "#### Using zip( built in python function)\n",
    "The name “zip” describes how this function combines objects like a zipper on a jacket (making two separate things become one). zip returns a zip object that must be unpacked into a list and printed to see the contents. Each item is a tuple of elements from the original lists."
   ]
  },
  {
   "cell_type": "code",
   "execution_count": 10,
   "id": "03653eaf",
   "metadata": {},
   "outputs": [
    {
     "name": "stdout",
     "output_type": "stream",
     "text": [
      "<class 'zip'>\n"
     ]
    }
   ],
   "source": [
    "# Combining objects with zip\n",
    "combined_zip = zip(names, age)\n",
    "print(type(combined_zip))"
   ]
  },
  {
   "cell_type": "code",
   "execution_count": 11,
   "id": "3bee55cc",
   "metadata": {},
   "outputs": [
    {
     "name": "stdout",
     "output_type": "stream",
     "text": [
      "[('Ahmed', 25), ('Youssef', 27), ('Mohammed', 40)]\n"
     ]
    }
   ],
   "source": [
    "combined_zip_list = [*combined_zip]\n",
    "print(combined_zip_list)"
   ]
  },
  {
   "cell_type": "code",
   "execution_count": 17,
   "id": "019d9d5e",
   "metadata": {},
   "outputs": [
    {
     "name": "stdout",
     "output_type": "stream",
     "text": [
      "271 ns ± 10.7 ns per loop (mean ± std. dev. of 10 runs, 100 loops each)\n"
     ]
    }
   ],
   "source": [
    "%%timeit -r10 -n100\n",
    "names = ['Ahmed', 'Youssef', 'Mohammed']\n",
    "age = [25, 27, 40]\n",
    "# Combining objects with zip\n",
    "combined_zip = zip(names, age)\n",
    "# print(type(combined_zip))"
   ]
  },
  {
   "cell_type": "markdown",
   "id": "429ed283",
   "metadata": {},
   "source": [
    "### 3. Counting Objects\n",
    "The [collections](https://www.geeksforgeeks.org/python-collections-module/) module contains specialized datatypes that can be used as alternatives to standard dictionaries, lists, sets, and tuples. A few notable specialized datatypes are:\n",
    "\n",
    "- namedtuple: tuple subclasses with named fields\n",
    "- deque: list-like container with fast appends and pops\n",
    "- Counter: dict for counting hashable objects\n",
    "- OrderedDict: dict that retains the order of entries\n",
    "- defaultdict: dict that calls a factory function to supply missing values\n",
    "\n",
    "The counter funtion from the Collections module will enable more effiecient way of counting items. To illustrate this, we will use the [Iris dataset](https://scikit-learn.org/stable/auto_examples/datasets/plot_iris_dataset.html)."
   ]
  },
  {
   "cell_type": "code",
   "execution_count": 23,
   "id": "82ea1d97",
   "metadata": {},
   "outputs": [
    {
     "data": {
      "text/html": [
       "<div>\n",
       "<style scoped>\n",
       "    .dataframe tbody tr th:only-of-type {\n",
       "        vertical-align: middle;\n",
       "    }\n",
       "\n",
       "    .dataframe tbody tr th {\n",
       "        vertical-align: top;\n",
       "    }\n",
       "\n",
       "    .dataframe thead th {\n",
       "        text-align: right;\n",
       "    }\n",
       "</style>\n",
       "<table border=\"1\" class=\"dataframe\">\n",
       "  <thead>\n",
       "    <tr style=\"text-align: right;\">\n",
       "      <th></th>\n",
       "      <th>sepal length (cm)</th>\n",
       "      <th>sepal width (cm)</th>\n",
       "      <th>petal length (cm)</th>\n",
       "      <th>petal width (cm)</th>\n",
       "      <th>target</th>\n",
       "    </tr>\n",
       "  </thead>\n",
       "  <tbody>\n",
       "    <tr>\n",
       "      <th>0</th>\n",
       "      <td>5.1</td>\n",
       "      <td>3.5</td>\n",
       "      <td>1.4</td>\n",
       "      <td>0.2</td>\n",
       "      <td>setosa</td>\n",
       "    </tr>\n",
       "    <tr>\n",
       "      <th>1</th>\n",
       "      <td>4.9</td>\n",
       "      <td>3.0</td>\n",
       "      <td>1.4</td>\n",
       "      <td>0.2</td>\n",
       "      <td>setosa</td>\n",
       "    </tr>\n",
       "    <tr>\n",
       "      <th>2</th>\n",
       "      <td>4.7</td>\n",
       "      <td>3.2</td>\n",
       "      <td>1.3</td>\n",
       "      <td>0.2</td>\n",
       "      <td>setosa</td>\n",
       "    </tr>\n",
       "    <tr>\n",
       "      <th>3</th>\n",
       "      <td>4.6</td>\n",
       "      <td>3.1</td>\n",
       "      <td>1.5</td>\n",
       "      <td>0.2</td>\n",
       "      <td>setosa</td>\n",
       "    </tr>\n",
       "    <tr>\n",
       "      <th>4</th>\n",
       "      <td>5.0</td>\n",
       "      <td>3.6</td>\n",
       "      <td>1.4</td>\n",
       "      <td>0.2</td>\n",
       "      <td>setosa</td>\n",
       "    </tr>\n",
       "  </tbody>\n",
       "</table>\n",
       "</div>"
      ],
      "text/plain": [
       "   sepal length (cm)  sepal width (cm)  petal length (cm)  petal width (cm)  \\\n",
       "0                5.1               3.5                1.4               0.2   \n",
       "1                4.9               3.0                1.4               0.2   \n",
       "2                4.7               3.2                1.3               0.2   \n",
       "3                4.6               3.1                1.5               0.2   \n",
       "4                5.0               3.6                1.4               0.2   \n",
       "\n",
       "   target  \n",
       "0  setosa  \n",
       "1  setosa  \n",
       "2  setosa  \n",
       "3  setosa  \n",
       "4  setosa  "
      ]
     },
     "execution_count": 23,
     "metadata": {},
     "output_type": "execute_result"
    }
   ],
   "source": [
    "# IMPORT THE IRIS DATA FROM THE \n",
    "# SKLEARN MODULE\n",
    "from sklearn.datasets import load_iris\n",
    "  \n",
    "# LOAD THE IRIS DATASET BY CALLING\n",
    "# THE FUNCTION\n",
    "iris_data = load_iris()\n",
    "  \n",
    "# PLACE THE IRIS DATA IN A PANDAS\n",
    "# DATAFRAME\n",
    "df = pd.DataFrame(data=iris_data.data, \n",
    "                  columns=iris_data.feature_names)\n",
    "df['target'] = iris_data.target\n",
    "old_names=[0,1,2]\n",
    "new_names =['setosa' ,'versicolor','virginica']\n",
    "## replace target values with names\n",
    "df['target'] = df['target'].replace({0:'setosa', 1:'versicolor', 2:'virginica'})\n",
    "  \n",
    "# DISPLAY FIRST 5 RECORDS OF THE \n",
    "# DATAFRAME\n",
    "df.head()"
   ]
  },
  {
   "cell_type": "markdown",
   "id": "99917c4a",
   "metadata": {},
   "source": [
    "#### using loops"
   ]
  },
  {
   "cell_type": "code",
   "execution_count": 32,
   "id": "057b52ae",
   "metadata": {},
   "outputs": [
    {
     "name": "stdout",
     "output_type": "stream",
     "text": [
      "20.3 µs ± 2.31 µs per loop (mean ± std. dev. of 10 runs, 1000 loops each)\n"
     ]
    }
   ],
   "source": [
    "%%timeit -r10 -n1000\n",
    "# Counting number of setosas,versicolors,virginicas with for loop\n",
    "iris_types = df['target']\n",
    "type_counts = {}\n",
    "for iris_type in iris_types:\n",
    "    if iris_type not in type_counts:\n",
    "        type_counts[iris_type] = 1\n",
    "    else:\n",
    "        type_counts[iris_type] += 1\n",
    "# print(type_counts)"
   ]
  },
  {
   "cell_type": "markdown",
   "id": "f17621b0",
   "metadata": {},
   "source": [
    "#### Using Counter "
   ]
  },
  {
   "cell_type": "code",
   "execution_count": 31,
   "id": "4903f99c",
   "metadata": {},
   "outputs": [
    {
     "name": "stdout",
     "output_type": "stream",
     "text": [
      "13.9 µs ± 2.04 µs per loop (mean ± std. dev. of 10 runs, 1000 loops each)\n"
     ]
    }
   ],
   "source": [
    "%%timeit -r10 -n1000\n",
    "iris_types = df['target']\n",
    "# counting with collections.Counter()\n",
    "from collections import Counter\n",
    "type_counts = Counter(iris_types)\n",
    "# print(type_counts)"
   ]
  },
  {
   "cell_type": "markdown",
   "id": "bffd2d38",
   "metadata": {},
   "source": [
    "### 4. Object Iterations\n",
    "[itertools](https://docs.python.org/3/library/itertools.html), contains a number of functional tools for working with iterators. Some of these tools include:\n",
    "\n",
    "Infinite iterators: count, cycle, repeat\n",
    "Finite iterators: accumulate, chain, zip_longest, etc.\n",
    "Combination generators: product, permutations, combinations"
   ]
  },
  {
   "cell_type": "code",
   "execution_count": 33,
   "id": "42e59398",
   "metadata": {},
   "outputs": [
    {
     "name": "stdout",
     "output_type": "stream",
     "text": [
      "[('setosa', 'versicolor'), ('setosa', 'virginica'), ('versicolor', 'virginica')]\n"
     ]
    }
   ],
   "source": [
    "#Combinations with loop\n",
    "iris_types = ['setosa' ,'versicolor','virginica']\n",
    "combos = []\n",
    "for x in iris_types:\n",
    "    for y in iris_types:\n",
    "        if x == y:\n",
    "            continue\n",
    "        if ((x,y) not in combos) & ((y,x) not in combos):\n",
    "            combos.append((x,y))\n",
    "print(combos)"
   ]
  },
  {
   "cell_type": "code",
   "execution_count": 34,
   "id": "6934ee7b",
   "metadata": {},
   "outputs": [
    {
     "name": "stdout",
     "output_type": "stream",
     "text": [
      "<class 'itertools.combinations'>\n",
      "[('setosa', 'versicolor'), ('setosa', 'virginica'), ('versicolor', 'virginica')]\n"
     ]
    }
   ],
   "source": [
    "# combinations with itertools\n",
    "iris_types = ['setosa' ,'versicolor','virginica']\n",
    "from itertools import combinations\n",
    "combos_obj = combinations(iris_types, 2)\n",
    "print(type(combos_obj))\n",
    "\n",
    "combos = [*combos_obj]\n",
    "print(combos)"
   ]
  },
  {
   "cell_type": "code",
   "execution_count": 37,
   "id": "01463aa0",
   "metadata": {},
   "outputs": [
    {
     "name": "stdout",
     "output_type": "stream",
     "text": [
      "<class 'itertools.product'>\n",
      "[('setosa', 'setosa'), ('setosa', 'versicolor'), ('setosa', 'virginica'), ('versicolor', 'setosa'), ('versicolor', 'versicolor'), ('versicolor', 'virginica'), ('virginica', 'setosa'), ('virginica', 'versicolor'), ('virginica', 'virginica')]\n"
     ]
    }
   ],
   "source": [
    "# using product with itertools\n",
    "iris_types = ['setosa' ,'versicolor','virginica']\n",
    "from itertools import product\n",
    "prods_obj = product(iris_types, repeat = 2)\n",
    "print(type(prods_obj))\n",
    "\n",
    "prods = [*prods_obj]\n",
    "print(prods)"
   ]
  }
 ],
 "metadata": {
  "kernelspec": {
   "display_name": "Python 3 (ipykernel)",
   "language": "python",
   "name": "python3"
  },
  "language_info": {
   "codemirror_mode": {
    "name": "ipython",
    "version": 3
   },
   "file_extension": ".py",
   "mimetype": "text/x-python",
   "name": "python",
   "nbconvert_exporter": "python",
   "pygments_lexer": "ipython3",
   "version": "3.9.7"
  }
 },
 "nbformat": 4,
 "nbformat_minor": 5
}
