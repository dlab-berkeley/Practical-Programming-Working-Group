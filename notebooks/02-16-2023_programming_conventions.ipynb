{
 "cells": [
  {
   "cell_type": "markdown",
   "id": "d22c1d8d",
   "metadata": {},
   "source": [
    "# \"Best\" Practices: what are they and why do we use them?\n",
    "\n",
    "Practical Programming Working Group\n",
    "02/16/2023\n",
    "\n",
    "\n",
    "## What are coding conventions?\n",
    "\n",
    "- Coding conventions, also sometimes referred to as 'best practices' are a set of principles to adhere to in programming\n",
    "- The conventions can be more or less well defined\n",
    "- Reasons for coding conventions: [readability](http://cnl.sogang.ac.kr/cnlab/lectures/programming/python/PEP8_Style_Guide.pdf), elegance, [speed](https://dl.acm.org/doi/abs/10.1145/3524610.3527879?casa_token=NIRKTzw-kmkAAAAA:hIa47Gi6zPRopOgGpytk12yiDemEpSFbGdzBQm52iz2R2xQ7QjzPzLwpooeZtmNi95eeKdgwJSYs)\n",
    "\n",
    "How many people here were taught some form of best practices in programming? How about style?\n",
    "\n",
    "Python: There is the 'pythonic' way of coding. The most common style guide is [PEP8](https://peps.python.org/pep-0008/)\n",
    ">A style guide is about consistency. Consistency with this style guide is important. Consistency within a project is more important.\n",
    "Consistency within one module or function is the most important.\n",
    "However, **know when to be inconsistent** -- sometimes style guide recommendations just aren't applicable. When in doubt, use your\n",
    "best judgment. Look at other examples and decide what looks best. And don't hesitate to ask!\n",
    "\n",
    "R: While (to my knowledge) not as entrenched in convention as Python, a common R style guide is the [tidyverse](https://style.tidyverse.org/) one. One quote that I like to highlight from this is:\n",
    "\n",
    "\n",
    "> All style guides are fundamentally opinionated. **Some decisions genuinely do make code easier to use (especially matching indenting to programming structure), but many decisions are arbitrary**. The most important thing about a style guide is that it provides consistency, making code easier to write because you need to make fewer decisions.\n",
    "\n",
    "\n",
    "## Best practices in practice\n",
    "\n",
    "I did a light search on how best practices are used and found a few interesting things:\n",
    "\n",
    "1. In Python, style (non)-conformiaty is a sign of perceived ability ([link](https://dl.acm.org/doi/epdf/10.1145/3276954.3276960))\n",
    "2. Evaluations of style conformation find that it is often not adhered to on [StackOverflow](https://ieeexplore.ieee.org/abstract/document/8816812), [Jupyter Notebooks](https://dl.acm.org/doi/abs/10.1145/3377816.3381724?casa_token=e2MLztx0SDsAAAAA:d_WzyqRwXXFGPxVRcfIcZlDZKJOZlwS5qkY8B9vosNoOzPtYSqubxCSRLc4JENsSlnzSOZ7Ce7d7) and [data science projects](https://dl.acm.org/doi/abs/10.1145/3382494.3410680?casa_token=hEGJx542qmQAAAAA:XjlG79-uQIMZ_hHM4sd7KBvM6Flgh_v3vRkCN03scEXcP9XYjird1lVMjAJaD1wnwOg9xhuZVpkC)\n",
    "3. In [some cases](https://citeseerx.ist.psu.edu/document?repid=rep1&type=pdf&doi=17274fef400424fe4876cd23edb8318e4944b203) conventions and readability don't always align \n",
    "\n",
    "\n",
    "**(Preview) Some Guiding Questions:**\n",
    "1. How have you interacted with coding conventions in your programming / community? What are benefits/ drawbacks of coding conventions in your experience?\n",
    "2. Where should best practices be in our own coding? In our teaching?\n"
   ]
  },
  {
   "cell_type": "markdown",
   "id": "fa8e22e8",
   "metadata": {},
   "source": [
    "# A few quick examples of best practices\n",
    "\n",
    "## Readability- [whitespace](https://peps.python.org/pep-0008/#whitespace-in-expressions-and-statements)/[naming](https://peps.python.org/pep-0008/#descriptive-naming-styles):"
   ]
  },
  {
   "cell_type": "markdown",
   "id": "7a868b8f",
   "metadata": {},
   "source": [
    "This example is of two principles (1) where to put whitespaces, and (2) how to name variables"
   ]
  },
  {
   "cell_type": "code",
   "execution_count": 14,
   "id": "f52640df",
   "metadata": {},
   "outputs": [],
   "source": [
    "import numpy as np"
   ]
  },
  {
   "cell_type": "code",
   "execution_count": 15,
   "id": "ab18d8fc",
   "metadata": {
    "scrolled": true
   },
   "outputs": [
    {
     "data": {
      "text/plain": [
       "0.5"
      ]
     },
     "execution_count": 15,
     "metadata": {},
     "output_type": "execute_result"
    }
   ],
   "source": [
    "#Not informatively named\n",
    "a=1\n",
    "b=2\n",
    "\n",
    "np.divide(a,b)"
   ]
  },
  {
   "cell_type": "code",
   "execution_count": 16,
   "id": "21ecf528",
   "metadata": {},
   "outputs": [
    {
     "data": {
      "text/plain": [
       "0.5"
      ]
     },
     "execution_count": 16,
     "metadata": {},
     "output_type": "execute_result"
    }
   ],
   "source": [
    "#informatively named, spaces around the comma and equals sign\n",
    "num = 1\n",
    "den = 2\n",
    "\n",
    "np.divide(num, den)"
   ]
  },
  {
   "cell_type": "markdown",
   "id": "730467e3",
   "metadata": {},
   "source": [
    "## Readability- structures:\n",
    "Sometimes there's code that is equally functional, but there's a way considered more readable than others. [PEP8](https://peps.python.org/pep-0008/#programming-recommendations)"
   ]
  },
  {
   "cell_type": "code",
   "execution_count": 4,
   "id": "c8c85de7",
   "metadata": {},
   "outputs": [
    {
     "name": "stdout",
     "output_type": "stream",
     "text": [
      "None\n"
     ]
    }
   ],
   "source": [
    "#functional but dispreferred\n",
    "data = None\n",
    "\n",
    "if data != None:\n",
    "    print('No data')\n",
    "else:\n",
    "    print(data)"
   ]
  },
  {
   "cell_type": "code",
   "execution_count": 3,
   "id": "ab20e325",
   "metadata": {},
   "outputs": [
    {
     "name": "stdout",
     "output_type": "stream",
     "text": [
      "None\n"
     ]
    }
   ],
   "source": [
    "#functional and more readable\n",
    "data = None\n",
    "\n",
    "if data is not None:\n",
    "    print('No data')\n",
    "else:\n",
    "    print(data)"
   ]
  },
  {
   "cell_type": "markdown",
   "id": "e39f5268",
   "metadata": {},
   "source": [
    "## Idioms\n",
    "Sometimes there's Python code that serves a very specific purpose but isn't inferrable from the fundamental syntax. This is also generally correlated with more efficient or faster code. Here's on example with [list comprehension](https://devblogs.microsoft.com/python/idiomatic-python-comprehensions/)"
   ]
  },
  {
   "cell_type": "code",
   "execution_count": 19,
   "id": "c0e45481",
   "metadata": {},
   "outputs": [
    {
     "name": "stdout",
     "output_type": "stream",
     "text": [
      "[2, 4, 6]\n",
      "[2, 4, 6]\n"
     ]
    }
   ],
   "source": [
    "some_list = [1,2,3]\n",
    "\n",
    "#fundamental way to do it\n",
    "new_list = []\n",
    "for i in some_list:\n",
    "    new_list.append(2*i)\n",
    "    \n",
    "print(new_list)   \n",
    "#idiomatic way\n",
    "\n",
    "new_list = [2*i for i in some_list]\n",
    "\n",
    "print(new_list)"
   ]
  }
 ],
 "metadata": {
  "kernelspec": {
   "display_name": "Python 3 (ipykernel)",
   "language": "python",
   "name": "python3"
  },
  "language_info": {
   "codemirror_mode": {
    "name": "ipython",
    "version": 3
   },
   "file_extension": ".py",
   "mimetype": "text/x-python",
   "name": "python",
   "nbconvert_exporter": "python",
   "pygments_lexer": "ipython3",
   "version": "3.9.13"
  }
 },
 "nbformat": 4,
 "nbformat_minor": 5
}
